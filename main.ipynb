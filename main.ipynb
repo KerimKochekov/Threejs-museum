{
 "cells": [
  {
   "cell_type": "code",
   "execution_count": 42,
   "metadata": {},
   "outputs": [],
   "source": [
    "from serpapi import GoogleSearch\n",
    "import requests\n",
    "import shutil\n",
    "from tqdm import tqdm\n",
    "import glob\n",
    "import os"
   ]
  },
  {
   "cell_type": "code",
   "execution_count": 17,
   "metadata": {},
   "outputs": [],
   "source": [
    "class GoogleImage:\n",
    "    def __init__(self, url, title, width, height):\n",
    "        self.url = url\n",
    "        self.title = title\n",
    "        self.width = width\n",
    "        self.height = height\n",
    "\n",
    "    def show(self):\n",
    "        print(f\"Title: {self.title} | Width: {self.width} | Height: {self.height} | URL: {self.url}\")"
   ]
  },
  {
   "cell_type": "code",
   "execution_count": null,
   "metadata": {},
   "outputs": [],
   "source": [
    "query = \"Kerim Kochekov\"\n",
    "secret_key = \"2572fc4584825b70054e8118707de9669fff6600b03a02d08cfe88021cb09f70\"\n",
    "\n",
    "params = {\n",
    "  \"q\": query,\n",
    "  \"tbm\": \"isch\",\n",
    "  \"ijn\": \"0\",\n",
    "  \"api_key\": secret_key\n",
    "}\n",
    "\n",
    "results = GoogleSearch(params).get_dict()"
   ]
  },
  {
   "cell_type": "code",
   "execution_count": 71,
   "metadata": {},
   "outputs": [],
   "source": [
    "result_images = []\n",
    "for i in range(len(results[\"images_results\"])):\n",
    "   try:\n",
    "      result_images.append(\n",
    "                  GoogleImage(\n",
    "                     results[\"images_results\"][i]['original'],\n",
    "                     results[\"images_results\"][i]['title'],\n",
    "                     results[\"images_results\"][i]['original_width'],\n",
    "                     results[\"images_results\"][i]['original_height']) \n",
    "                     \n",
    "                  )\n",
    "   except:\n",
    "      pass"
   ]
  },
  {
   "cell_type": "code",
   "execution_count": 72,
   "metadata": {},
   "outputs": [],
   "source": [
    "def delete_all_files(dir):\n",
    "    files = glob.glob(f'{dir}/*')\n",
    "    for f in files:\n",
    "        os.remove(f)"
   ]
  },
  {
   "cell_type": "code",
   "execution_count": 74,
   "metadata": {},
   "outputs": [],
   "source": [
    "def download_images(dir, images):\n",
    "    delete_all_files(dir)\n",
    "    image_formats = ['png', 'jpeg', 'jpg', 'bmp', 'tiff', 'gif', 'svg']\n",
    "    for i in tqdm(range(len(images))):\n",
    "        url = images[i].url\n",
    "        try:\n",
    "            response = requests.get(url, stream=True)\n",
    "            which_format = image_formats[1]\n",
    "            for image_format in image_formats:\n",
    "                if image_format in url:\n",
    "                    which_format = image_format\n",
    "                    break\n",
    "            with open(f'{dir}/{i}.{which_format}', 'wb') as out_file:\n",
    "                shutil.copyfileobj(response.raw, out_file)\n",
    "            del response\n",
    "        except:\n",
    "            pass\n"
   ]
  },
  {
   "cell_type": "code",
   "execution_count": 75,
   "metadata": {},
   "outputs": [
    {
     "name": "stderr",
     "output_type": "stream",
     "text": [
      "100%|██████████| 98/98 [01:36<00:00,  1.02it/s]\n"
     ]
    }
   ],
   "source": [
    "download_images('bin', result_images)"
   ]
  },
  {
   "cell_type": "code",
   "execution_count": 77,
   "metadata": {},
   "outputs": [
    {
     "name": "stdout",
     "output_type": "stream",
     "text": [
      "0 https://avatars.githubusercontent.com/u/50640842?v=4\n",
      "1 https://media-exp1.licdn.com/dms/image/D5603AQHKlNMy1Ak1Gw/profile-displayphoto-shrink_800_800/0/1665653523241?e=2147483647&v=beta&t=WsPGH_OSpV2EflEqgRduah-mZ7Gh-q5SeIBjTZv2rXw\n",
      "2 https://assets.leetcode.com/users/kerimkochekov/avatar_1585820923.png\n",
      "3 https://cdn.codechef.com/sites/default/files/uploads/pictures/94a66db12003d462b0200d56a2c5f49b.jpg\n",
      "4 https://media-exp1.licdn.com/dms/image/C4D05AQGvmb5zvPVfHg/videocover-low/0/1664956047405?e=2147483647&v=beta&t=B7yE_6b9-P0lulbSgNHGKDOCPkwpWivhtxYWUMXHhRU\n",
      "5 https://media-exp1.licdn.com/dms/image/C5622AQGjXxXxiEXikA/feedshare-shrink_2048_1536/0/1663314860442?e=2147483647&v=beta&t=ayKhk7gpQldD3vpXHXj4Ohk9wCDVlITzhBSzgOEfGjU\n",
      "6 https://media-exp1.licdn.com/dms/image/C4D22AQHR8PBS-IcoMA/feedshare-shrink_800/0/1667802922255?e=2147483647&v=beta&t=Nanm5WPNDGAAJT-efsHq_UhdVjwrW7vdqN56V0Fyzl0\n",
      "7 https://media-exp1.licdn.com/dms/image/C4D22AQGBtOQojfsNRw/feedshare-shrink_800/0/1661789984154?e=2147483647&v=beta&t=LaCwho7ZQDuf6X6ky-2uj0d6jbvK4oU9FiDQ6w1pkxY\n",
      "8 https://media-exp1.licdn.com/dms/image/C4D22AQEU0oODaD5H3A/feedshare-shrink_800/0/1667225677782?e=2147483647&v=beta&t=1oVQeZuEVj5eM39Xn42gNk2Y12vmyX826xETXVARGdw\n",
      "9 https://media-exp1.licdn.com/dms/image/C4D22AQF3r7CW2_vebg/feedshare-shrink_800/0/1663785408757?e=2147483647&v=beta&t=bdmMRNbF1BqkOAfkcKhqekuG5K3YBvMbLh52iM6hpCE\n"
     ]
    }
   ],
   "source": [
    "for i in range(10):\n",
    "    print(i, result_images[i].url)"
   ]
  },
  {
   "cell_type": "code",
   "execution_count": null,
   "metadata": {},
   "outputs": [],
   "source": []
  }
 ],
 "metadata": {
  "kernelspec": {
   "display_name": "Python 3.8.10 64-bit",
   "language": "python",
   "name": "python3"
  },
  "language_info": {
   "codemirror_mode": {
    "name": "ipython",
    "version": 3
   },
   "file_extension": ".py",
   "mimetype": "text/x-python",
   "name": "python",
   "nbconvert_exporter": "python",
   "pygments_lexer": "ipython3",
   "version": "3.8.10"
  },
  "orig_nbformat": 4,
  "vscode": {
   "interpreter": {
    "hash": "916dbcbb3f70747c44a77c7bcd40155683ae19c65e1c03b4aa3499c5328201f1"
   }
  }
 },
 "nbformat": 4,
 "nbformat_minor": 2
}
